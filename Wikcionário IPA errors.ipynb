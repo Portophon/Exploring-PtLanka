{
 "cells": [
  {
   "cell_type": "markdown",
   "metadata": {},
   "source": [
    "## Packages"
   ]
  },
  {
   "cell_type": "code",
   "execution_count": 1,
   "metadata": {},
   "outputs": [],
   "source": [
    "import pandas as pd\n",
    "import re\n",
    "from collections import Counter\n",
    "import matplotlib.pyplot as plt\n",
    "import matplotlib.ticker as ticker\n",
    "import squarify"
   ]
  },
  {
   "cell_type": "markdown",
   "metadata": {},
   "source": [
    "## Load data set"
   ]
  },
  {
   "cell_type": "code",
   "execution_count": 2,
   "metadata": {},
   "outputs": [
    {
     "data": {
      "text/html": [
       "<div>\n",
       "<style scoped>\n",
       "    .dataframe tbody tr th:only-of-type {\n",
       "        vertical-align: middle;\n",
       "    }\n",
       "\n",
       "    .dataframe tbody tr th {\n",
       "        vertical-align: top;\n",
       "    }\n",
       "\n",
       "    .dataframe thead th {\n",
       "        text-align: right;\n",
       "    }\n",
       "</style>\n",
       "<table border=\"1\" class=\"dataframe\">\n",
       "  <thead>\n",
       "    <tr style=\"text-align: right;\">\n",
       "      <th></th>\n",
       "      <th>word</th>\n",
       "      <th>spelling</th>\n",
       "      <th>IPA_correct</th>\n",
       "      <th>Notes_1</th>\n",
       "      <th>Notes_2</th>\n",
       "      <th>Notes_3</th>\n",
       "      <th>Notes_4</th>\n",
       "    </tr>\n",
       "  </thead>\n",
       "  <tbody>\n",
       "    <tr>\n",
       "      <th>0</th>\n",
       "      <td>excerto</td>\n",
       "      <td>NaN</td>\n",
       "      <td>['ejʃ.ˈseɾ.tu']</td>\n",
       "      <td>spelling sellection</td>\n",
       "      <td>syllable division</td>\n",
       "      <td>NaN</td>\n",
       "      <td>Error</td>\n",
       "    </tr>\n",
       "    <tr>\n",
       "      <th>1</th>\n",
       "      <td>peluche</td>\n",
       "      <td>['pɨ.ˈlu.ʃɨ']</td>\n",
       "      <td>NaN</td>\n",
       "      <td>NaN</td>\n",
       "      <td>NaN</td>\n",
       "      <td>NaN</td>\n",
       "      <td>No error</td>\n",
       "    </tr>\n",
       "    <tr>\n",
       "      <th>2</th>\n",
       "      <td>contribuição</td>\n",
       "      <td>['kõ.tɾi.bwi.ˈsɐ̃w̃']</td>\n",
       "      <td>NaN</td>\n",
       "      <td>NaN</td>\n",
       "      <td>NaN</td>\n",
       "      <td>NaN</td>\n",
       "      <td>No error</td>\n",
       "    </tr>\n",
       "    <tr>\n",
       "      <th>3</th>\n",
       "      <td>alguém</td>\n",
       "      <td>['aɫ.ˈɡɐ̃j̃']</td>\n",
       "      <td>NaN</td>\n",
       "      <td>NaN</td>\n",
       "      <td>NaN</td>\n",
       "      <td>NaN</td>\n",
       "      <td>No error</td>\n",
       "    </tr>\n",
       "    <tr>\n",
       "      <th>4</th>\n",
       "      <td>caos</td>\n",
       "      <td>['ˈkawʃ']</td>\n",
       "      <td>NaN</td>\n",
       "      <td>NaN</td>\n",
       "      <td>NaN</td>\n",
       "      <td>NaN</td>\n",
       "      <td>No error</td>\n",
       "    </tr>\n",
       "    <tr>\n",
       "      <th>...</th>\n",
       "      <td>...</td>\n",
       "      <td>...</td>\n",
       "      <td>...</td>\n",
       "      <td>...</td>\n",
       "      <td>...</td>\n",
       "      <td>...</td>\n",
       "      <td>...</td>\n",
       "    </tr>\n",
       "    <tr>\n",
       "      <th>12367</th>\n",
       "      <td>copiosos</td>\n",
       "      <td>['ku.ˈpjɔ.zus']</td>\n",
       "      <td>NaN</td>\n",
       "      <td>NaN</td>\n",
       "      <td>NaN</td>\n",
       "      <td>NaN</td>\n",
       "      <td>No error</td>\n",
       "    </tr>\n",
       "    <tr>\n",
       "      <th>12368</th>\n",
       "      <td>copiosas</td>\n",
       "      <td>['ku.ˈpjɔ.zas']</td>\n",
       "      <td>NaN</td>\n",
       "      <td>NaN</td>\n",
       "      <td>NaN</td>\n",
       "      <td>NaN</td>\n",
       "      <td>No error</td>\n",
       "    </tr>\n",
       "    <tr>\n",
       "      <th>12369</th>\n",
       "      <td>copiosa</td>\n",
       "      <td>['ku.ˈpjɔ.za']</td>\n",
       "      <td>NaN</td>\n",
       "      <td>NaN</td>\n",
       "      <td>NaN</td>\n",
       "      <td>NaN</td>\n",
       "      <td>No error</td>\n",
       "    </tr>\n",
       "    <tr>\n",
       "      <th>12370</th>\n",
       "      <td>realístico</td>\n",
       "      <td>['Rjɐ.ˈliʃ.ti.co']</td>\n",
       "      <td>NaN</td>\n",
       "      <td>NaN</td>\n",
       "      <td>NaN</td>\n",
       "      <td>NaN</td>\n",
       "      <td>No error</td>\n",
       "    </tr>\n",
       "    <tr>\n",
       "      <th>12371</th>\n",
       "      <td>dutoviário</td>\n",
       "      <td>NaN</td>\n",
       "      <td>[du.tu.vi.ˈa.ɾi.u]</td>\n",
       "      <td>empty</td>\n",
       "      <td>NaN</td>\n",
       "      <td>NaN</td>\n",
       "      <td>Error</td>\n",
       "    </tr>\n",
       "  </tbody>\n",
       "</table>\n",
       "<p>12372 rows × 7 columns</p>\n",
       "</div>"
      ],
      "text/plain": [
       "               word               spelling         IPA_correct  \\\n",
       "0           excerto                    NaN     ['ejʃ.ˈseɾ.tu']   \n",
       "1           peluche          ['pɨ.ˈlu.ʃɨ']                 NaN   \n",
       "2      contribuição  ['kõ.tɾi.bwi.ˈsɐ̃w̃']                 NaN   \n",
       "3            alguém          ['aɫ.ˈɡɐ̃j̃']                 NaN   \n",
       "4              caos              ['ˈkawʃ']                 NaN   \n",
       "...             ...                    ...                 ...   \n",
       "12367      copiosos        ['ku.ˈpjɔ.zus']                 NaN   \n",
       "12368      copiosas        ['ku.ˈpjɔ.zas']                 NaN   \n",
       "12369       copiosa         ['ku.ˈpjɔ.za']                 NaN   \n",
       "12370    realístico     ['Rjɐ.ˈliʃ.ti.co']                 NaN   \n",
       "12371    dutoviário                    NaN  [du.tu.vi.ˈa.ɾi.u]   \n",
       "\n",
       "                   Notes_1            Notes_2 Notes_3   Notes_4  \n",
       "0      spelling sellection  syllable division     NaN     Error  \n",
       "1                      NaN                NaN     NaN  No error  \n",
       "2                      NaN                NaN     NaN  No error  \n",
       "3                      NaN                NaN     NaN  No error  \n",
       "4                      NaN                NaN     NaN  No error  \n",
       "...                    ...                ...     ...       ...  \n",
       "12367                  NaN                NaN     NaN  No error  \n",
       "12368                  NaN                NaN     NaN  No error  \n",
       "12369                  NaN                NaN     NaN  No error  \n",
       "12370                  NaN                NaN     NaN  No error  \n",
       "12371                empty                NaN     NaN     Error  \n",
       "\n",
       "[12372 rows x 7 columns]"
      ]
     },
     "execution_count": 2,
     "metadata": {},
     "output_type": "execute_result"
    }
   ],
   "source": [
    "file_name = \"wikcionario_IPA_fixed.csv\"\n",
    "\n",
    "errors_df = pd.read_csv(file_name)\n",
    "errors_df"
   ]
  },
  {
   "cell_type": "code",
   "execution_count": 3,
   "metadata": {},
   "outputs": [
    {
     "data": {
      "image/png": "[encoded data removed]",
      "text/plain": [
       "<Figure size 360x360 with 1 Axes>"
      ]
     },
     "metadata": {},
     "output_type": "display_data"
    }
   ],
   "source": [
    "error_count = errors_df.Notes_4.value_counts()\n",
    "plot = error_count.plot.pie(y='Notes_4', figsize=(5, 5))"
   ]
  },
  {
   "cell_type": "code",
   "execution_count": 4,
   "metadata": {},
   "outputs": [
    {
     "data": {
      "text/plain": [
       "406"
      ]
     },
     "execution_count": 4,
     "metadata": {},
     "output_type": "execute_result"
    }
   ],
   "source": [
    "error_count = len(errors_df[errors_df[\"Notes_4\"]==\"Error\"])\n",
    "error_count"
   ]
  },
  {
   "cell_type": "code",
   "execution_count": 5,
   "metadata": {},
   "outputs": [
    {
     "data": {
      "text/plain": [
       "12372"
      ]
     },
     "execution_count": 5,
     "metadata": {},
     "output_type": "execute_result"
    }
   ],
   "source": [
    "total_count = len(errors_df)\n",
    "total_count"
   ]
  },
  {
   "cell_type": "code",
   "execution_count": 6,
   "metadata": {},
   "outputs": [
    {
     "data": {
      "text/plain": [
       "0.03281603621079858"
      ]
     },
     "execution_count": 6,
     "metadata": {},
     "output_type": "execute_result"
    }
   ],
   "source": [
    "error_percentage = error_count/len(errors_df)\n",
    "error_percentage"
   ]
  },
  {
   "cell_type": "code",
   "execution_count": 7,
   "metadata": {
    "scrolled": false
   },
   "outputs": [
    {
     "data": {
      "text/html": [
       "<div>\n",
       "<style scoped>\n",
       "    .dataframe tbody tr th:only-of-type {\n",
       "        vertical-align: middle;\n",
       "    }\n",
       "\n",
       "    .dataframe tbody tr th {\n",
       "        vertical-align: top;\n",
       "    }\n",
       "\n",
       "    .dataframe thead th {\n",
       "        text-align: right;\n",
       "    }\n",
       "</style>\n",
       "<table border=\"1\" class=\"dataframe\">\n",
       "  <thead>\n",
       "    <tr style=\"text-align: right;\">\n",
       "      <th></th>\n",
       "      <th>word</th>\n",
       "      <th>spelling</th>\n",
       "      <th>IPA_correct</th>\n",
       "      <th>Notes_1</th>\n",
       "      <th>Notes_2</th>\n",
       "      <th>Notes_3</th>\n",
       "      <th>Notes_4</th>\n",
       "    </tr>\n",
       "  </thead>\n",
       "  <tbody>\n",
       "    <tr>\n",
       "      <th>0</th>\n",
       "      <td>excerto</td>\n",
       "      <td>NaN</td>\n",
       "      <td>['ejʃ.ˈseɾ.tu']</td>\n",
       "      <td>spelling sellection</td>\n",
       "      <td>syllable division</td>\n",
       "      <td>NaN</td>\n",
       "      <td>Error</td>\n",
       "    </tr>\n",
       "    <tr>\n",
       "      <th>20</th>\n",
       "      <td>brasileiro</td>\n",
       "      <td>NaN</td>\n",
       "      <td>[brɐ.zi.ˈɫɐj.ɾu]</td>\n",
       "      <td>empty</td>\n",
       "      <td>syllable division</td>\n",
       "      <td>NaN</td>\n",
       "      <td>Error</td>\n",
       "    </tr>\n",
       "    <tr>\n",
       "      <th>63</th>\n",
       "      <td>material</td>\n",
       "      <td>NaN</td>\n",
       "      <td>['mɐ.tɨ.ˈɾi.aɫ']</td>\n",
       "      <td>false diphthong</td>\n",
       "      <td>NaN</td>\n",
       "      <td>NaN</td>\n",
       "      <td>Error</td>\n",
       "    </tr>\n",
       "    <tr>\n",
       "      <th>156</th>\n",
       "      <td>carro</td>\n",
       "      <td>NaN</td>\n",
       "      <td>[ka.Ru]</td>\n",
       "      <td>empty</td>\n",
       "      <td>NaN</td>\n",
       "      <td>NaN</td>\n",
       "      <td>Error</td>\n",
       "    </tr>\n",
       "    <tr>\n",
       "      <th>232</th>\n",
       "      <td>azeitona</td>\n",
       "      <td>NaN</td>\n",
       "      <td>[ɐ.zɐj.ˈto.nɐ]</td>\n",
       "      <td>empty</td>\n",
       "      <td>NaN</td>\n",
       "      <td>NaN</td>\n",
       "      <td>Error</td>\n",
       "    </tr>\n",
       "    <tr>\n",
       "      <th>...</th>\n",
       "      <td>...</td>\n",
       "      <td>...</td>\n",
       "      <td>...</td>\n",
       "      <td>...</td>\n",
       "      <td>...</td>\n",
       "      <td>...</td>\n",
       "      <td>...</td>\n",
       "    </tr>\n",
       "    <tr>\n",
       "      <th>12265</th>\n",
       "      <td>pós-verdade</td>\n",
       "      <td>NaN</td>\n",
       "      <td>['pɔʒ.'vɨɾ.ˈda.dɨ]</td>\n",
       "      <td>spelling sellection</td>\n",
       "      <td>syllable division</td>\n",
       "      <td>IPA uniformization</td>\n",
       "      <td>Error</td>\n",
       "    </tr>\n",
       "    <tr>\n",
       "      <th>12304</th>\n",
       "      <td>escamotear</td>\n",
       "      <td>NaN</td>\n",
       "      <td>['iʃ.kɐ.mu.ˈti.aɾ']</td>\n",
       "      <td>false diphthong</td>\n",
       "      <td>NaN</td>\n",
       "      <td>NaN</td>\n",
       "      <td>Error</td>\n",
       "    </tr>\n",
       "    <tr>\n",
       "      <th>12306</th>\n",
       "      <td>floreado</td>\n",
       "      <td>NaN</td>\n",
       "      <td>['flu.ˈɾi.a.du']</td>\n",
       "      <td>false diphthong</td>\n",
       "      <td>NaN</td>\n",
       "      <td>NaN</td>\n",
       "      <td>Error</td>\n",
       "    </tr>\n",
       "    <tr>\n",
       "      <th>12349</th>\n",
       "      <td>desapropriado</td>\n",
       "      <td>NaN</td>\n",
       "      <td>['dɨ.zɐ.pɾu.ˈpɾi.a.du']</td>\n",
       "      <td>false diphthong</td>\n",
       "      <td>NaN</td>\n",
       "      <td>NaN</td>\n",
       "      <td>Error</td>\n",
       "    </tr>\n",
       "    <tr>\n",
       "      <th>12371</th>\n",
       "      <td>dutoviário</td>\n",
       "      <td>NaN</td>\n",
       "      <td>[du.tu.vi.ˈa.ɾi.u]</td>\n",
       "      <td>empty</td>\n",
       "      <td>NaN</td>\n",
       "      <td>NaN</td>\n",
       "      <td>Error</td>\n",
       "    </tr>\n",
       "  </tbody>\n",
       "</table>\n",
       "<p>406 rows × 7 columns</p>\n",
       "</div>"
      ],
      "text/plain": [
       "                word spelling              IPA_correct              Notes_1  \\\n",
       "0            excerto      NaN          ['ejʃ.ˈseɾ.tu']  spelling sellection   \n",
       "20        brasileiro      NaN         [brɐ.zi.ˈɫɐj.ɾu]                empty   \n",
       "63          material      NaN         ['mɐ.tɨ.ˈɾi.aɫ']      false diphthong   \n",
       "156            carro      NaN                  [ka.Ru]                empty   \n",
       "232         azeitona      NaN           [ɐ.zɐj.ˈto.nɐ]                empty   \n",
       "...              ...      ...                      ...                  ...   \n",
       "12265    pós-verdade      NaN       ['pɔʒ.'vɨɾ.ˈda.dɨ]  spelling sellection   \n",
       "12304     escamotear      NaN      ['iʃ.kɐ.mu.ˈti.aɾ']      false diphthong   \n",
       "12306       floreado      NaN         ['flu.ˈɾi.a.du']      false diphthong   \n",
       "12349  desapropriado      NaN  ['dɨ.zɐ.pɾu.ˈpɾi.a.du']      false diphthong   \n",
       "12371     dutoviário      NaN       [du.tu.vi.ˈa.ɾi.u]                empty   \n",
       "\n",
       "                 Notes_2             Notes_3 Notes_4  \n",
       "0      syllable division                 NaN   Error  \n",
       "20     syllable division                 NaN   Error  \n",
       "63                   NaN                 NaN   Error  \n",
       "156                  NaN                 NaN   Error  \n",
       "232                  NaN                 NaN   Error  \n",
       "...                  ...                 ...     ...  \n",
       "12265  syllable division  IPA uniformization   Error  \n",
       "12304                NaN                 NaN   Error  \n",
       "12306                NaN                 NaN   Error  \n",
       "12349                NaN                 NaN   Error  \n",
       "12371                NaN                 NaN   Error  \n",
       "\n",
       "[406 rows x 7 columns]"
      ]
     },
     "execution_count": 7,
     "metadata": {},
     "output_type": "execute_result"
    }
   ],
   "source": [
    "error_count_df=errors_df[errors_df[\"Notes_4\"]==\"Error\"]\n",
    "error_count_df"
   ]
  },
  {
   "cell_type": "code",
   "execution_count": 8,
   "metadata": {},
   "outputs": [
    {
     "data": {
      "text/html": [
       "<div>\n",
       "<style scoped>\n",
       "    .dataframe tbody tr th:only-of-type {\n",
       "        vertical-align: middle;\n",
       "    }\n",
       "\n",
       "    .dataframe tbody tr th {\n",
       "        vertical-align: top;\n",
       "    }\n",
       "\n",
       "    .dataframe thead th {\n",
       "        text-align: right;\n",
       "    }\n",
       "</style>\n",
       "<table border=\"1\" class=\"dataframe\">\n",
       "  <thead>\n",
       "    <tr style=\"text-align: right;\">\n",
       "      <th></th>\n",
       "      <th>unique_values</th>\n",
       "      <th>counts</th>\n",
       "    </tr>\n",
       "  </thead>\n",
       "  <tbody>\n",
       "    <tr>\n",
       "      <th>0</th>\n",
       "      <td>false diphthong</td>\n",
       "      <td>368</td>\n",
       "    </tr>\n",
       "    <tr>\n",
       "      <th>1</th>\n",
       "      <td>empty</td>\n",
       "      <td>26</td>\n",
       "    </tr>\n",
       "    <tr>\n",
       "      <th>2</th>\n",
       "      <td>spelling sellection</td>\n",
       "      <td>12</td>\n",
       "    </tr>\n",
       "  </tbody>\n",
       "</table>\n",
       "</div>"
      ],
      "text/plain": [
       "         unique_values  counts\n",
       "0      false diphthong     368\n",
       "1                empty      26\n",
       "2  spelling sellection      12"
      ]
     },
     "execution_count": 8,
     "metadata": {},
     "output_type": "execute_result"
    }
   ],
   "source": [
    "errors_df = error_count_df.Notes_1.value_counts().rename_axis('unique_values').reset_index(name='counts')\n",
    "errors_df"
   ]
  },
  {
   "cell_type": "code",
   "execution_count": 9,
   "metadata": {},
   "outputs": [
    {
     "data": {
      "text/html": [
       "<div>\n",
       "<style scoped>\n",
       "    .dataframe tbody tr th:only-of-type {\n",
       "        vertical-align: middle;\n",
       "    }\n",
       "\n",
       "    .dataframe tbody tr th {\n",
       "        vertical-align: top;\n",
       "    }\n",
       "\n",
       "    .dataframe thead th {\n",
       "        text-align: right;\n",
       "    }\n",
       "</style>\n",
       "<table border=\"1\" class=\"dataframe\">\n",
       "  <thead>\n",
       "    <tr style=\"text-align: right;\">\n",
       "      <th></th>\n",
       "      <th>unique_values</th>\n",
       "      <th>counts</th>\n",
       "    </tr>\n",
       "  </thead>\n",
       "  <tbody>\n",
       "    <tr>\n",
       "      <th>0</th>\n",
       "      <td>false diphthong</td>\n",
       "      <td>368</td>\n",
       "    </tr>\n",
       "    <tr>\n",
       "      <th>1</th>\n",
       "      <td>empty</td>\n",
       "      <td>26</td>\n",
       "    </tr>\n",
       "    <tr>\n",
       "      <th>2</th>\n",
       "      <td>spelling sellection</td>\n",
       "      <td>12</td>\n",
       "    </tr>\n",
       "    <tr>\n",
       "      <th>0</th>\n",
       "      <td>syllable division</td>\n",
       "      <td>8</td>\n",
       "    </tr>\n",
       "    <tr>\n",
       "      <th>0</th>\n",
       "      <td>IPA uniformization</td>\n",
       "      <td>2</td>\n",
       "    </tr>\n",
       "  </tbody>\n",
       "</table>\n",
       "</div>"
      ],
      "text/plain": [
       "         unique_values  counts\n",
       "0      false diphthong     368\n",
       "1                empty      26\n",
       "2  spelling sellection      12\n",
       "0    syllable division       8\n",
       "0   IPA uniformization       2"
      ]
     },
     "execution_count": 9,
     "metadata": {},
     "output_type": "execute_result"
    }
   ],
   "source": [
    "errors_df = error_count_df.Notes_1.value_counts().rename_axis('unique_values').reset_index(name='counts')\n",
    "errors_df_2 = error_count_df.Notes_2.value_counts().rename_axis('unique_values').reset_index(name='counts')\n",
    "errors_df_3 = error_count_df.Notes_3.value_counts().rename_axis('unique_values').reset_index(name='counts')\n",
    "errors_df = pd.concat([errors_df, errors_df_2, errors_df_3], axis=0)\n",
    "errors_df"
   ]
  },
  {
   "cell_type": "code",
   "execution_count": 10,
   "metadata": {},
   "outputs": [
    {
     "data": {
      "text/html": [
       "<div>\n",
       "<style scoped>\n",
       "    .dataframe tbody tr th:only-of-type {\n",
       "        vertical-align: middle;\n",
       "    }\n",
       "\n",
       "    .dataframe tbody tr th {\n",
       "        vertical-align: top;\n",
       "    }\n",
       "\n",
       "    .dataframe thead th {\n",
       "        text-align: right;\n",
       "    }\n",
       "</style>\n",
       "<table border=\"1\" class=\"dataframe\">\n",
       "  <thead>\n",
       "    <tr style=\"text-align: right;\">\n",
       "      <th></th>\n",
       "      <th>counts</th>\n",
       "      <th>rel_count</th>\n",
       "    </tr>\n",
       "    <tr>\n",
       "      <th>unique_values</th>\n",
       "      <th></th>\n",
       "      <th></th>\n",
       "    </tr>\n",
       "  </thead>\n",
       "  <tbody>\n",
       "    <tr>\n",
       "      <th>false diphthong</th>\n",
       "      <td>368</td>\n",
       "      <td>90.6</td>\n",
       "    </tr>\n",
       "    <tr>\n",
       "      <th>empty</th>\n",
       "      <td>26</td>\n",
       "      <td>6.4</td>\n",
       "    </tr>\n",
       "    <tr>\n",
       "      <th>spelling sellection</th>\n",
       "      <td>12</td>\n",
       "      <td>3.0</td>\n",
       "    </tr>\n",
       "    <tr>\n",
       "      <th>syllable division</th>\n",
       "      <td>8</td>\n",
       "      <td>2.0</td>\n",
       "    </tr>\n",
       "    <tr>\n",
       "      <th>IPA uniformization</th>\n",
       "      <td>2</td>\n",
       "      <td>0.5</td>\n",
       "    </tr>\n",
       "  </tbody>\n",
       "</table>\n",
       "</div>"
      ],
      "text/plain": [
       "                     counts  rel_count\n",
       "unique_values                         \n",
       "false diphthong         368       90.6\n",
       "empty                    26        6.4\n",
       "spelling sellection      12        3.0\n",
       "syllable division         8        2.0\n",
       "IPA uniformization        2        0.5"
      ]
     },
     "execution_count": 10,
     "metadata": {},
     "output_type": "execute_result"
    }
   ],
   "source": [
    "errors_df[\"rel_count\"] = round(errors_df[\"counts\"]/len(error_count_df), 3)*100\n",
    "errors_df = errors_df.set_index(\"unique_values\")\n",
    "errors_df"
   ]
  },
  {
   "cell_type": "code",
   "execution_count": 11,
   "metadata": {
    "scrolled": true
   },
   "outputs": [
    {
     "data": {
      "image/png": "[encoded data removed]",
      "text/plain": [
       "<Figure size 432x288 with 2 Axes>"
      ]
     },
     "metadata": {
      "needs_background": "light"
     },
     "output_type": "display_data"
    }
   ],
   "source": [
    "ax = errors_df.counts.sort_values().plot(kind = 'barh')\n",
    "ax.xaxis.grid(zorder=0)\n",
    "\n",
    "ax2 = ax.twiny()\n",
    "ax2.xaxis.set_major_locator(ticker.MultipleLocator(.10))"
   ]
  },
  {
   "cell_type": "code",
   "execution_count": null,
   "metadata": {},
   "outputs": [],
   "source": []
  }
 ],
 "metadata": {
  "hide_input": false,
  "kernelspec": {
   "display_name": "Python 3",
   "language": "python",
   "name": "python3"
  },
  "language_info": {
   "codemirror_mode": {
    "name": "ipython",
    "version": 3
   },
   "file_extension": ".py",
   "mimetype": "text/x-python",
   "name": "python",
   "nbconvert_exporter": "python",
   "pygments_lexer": "ipython3",
   "version": "3.8.5"
  },
  "toc": {
   "base_numbering": 1,
   "nav_menu": {},
   "number_sections": true,
   "sideBar": true,
   "skip_h1_title": false,
   "title_cell": "Table of Contents",
   "title_sidebar": "Contents",
   "toc_cell": false,
   "toc_position": {},
   "toc_section_display": true,
   "toc_window_display": false
  }
 },
 "nbformat": 4,
 "nbformat_minor": 4
}
