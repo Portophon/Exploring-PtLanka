{
 "cells": [
  {
   "cell_type": "markdown",
   "metadata": {},
   "source": [
    "## Packages"
   ]
  },
  {
   "cell_type": "code",
   "execution_count": 1,
   "metadata": {},
   "outputs": [],
   "source": [
    "import os\n",
    "import re\n",
    "\n",
    "import codecs\n",
    "import pandas as pd"
   ]
  },
  {
   "cell_type": "markdown",
   "metadata": {},
   "source": [
    "## Load data set\n",
    "From https://dumps.wikimedia.org/ptwiktionary/latest/\n",
    "\n",
    "18-01-2022"
   ]
  },
  {
   "cell_type": "code",
   "execution_count": 2,
   "metadata": {
    "scrolled": false
   },
   "outputs": [
    {
     "name": "stdout",
     "output_type": "stream",
     "text": [
      "349113998\n"
     ]
    }
   ],
   "source": [
    "pt_dict = []\n",
    "\n",
    "with open(\"ptwiktionary-latest-pages-articles.xml\", encoding=\"utf-8\") as file:\n",
    "    pt_dict = file.read()\n",
    "print(len(pt_dict))"
   ]
  },
  {
   "cell_type": "code",
   "execution_count": 3,
   "metadata": {},
   "outputs": [
    {
     "data": {
      "text/plain": [
       "320088"
      ]
     },
     "execution_count": 3,
     "metadata": {},
     "output_type": "execute_result"
    }
   ],
   "source": [
    "#pt_dict = urllib.parse.unquote(pt_dict)\n",
    "regex = r\"(?<=\\<page\\>)(.*?)\\s*(?=\\<\\/page\\>)\"\n",
    "pt_entries= re.findall(regex, pt_dict, re.DOTALL)\n",
    "\n",
    "len(pt_entries)"
   ]
  },
  {
   "cell_type": "code",
   "execution_count": 4,
   "metadata": {},
   "outputs": [
    {
     "data": {
      "text/plain": [
       "30229"
      ]
     },
     "execution_count": 4,
     "metadata": {},
     "output_type": "execute_result"
    }
   ],
   "source": [
    "word_search = \"=={{etimologia|pt}}==\"\n",
    "pt_entries_etimologia = [match for match in pt_entries if word_search in match]\n",
    "\n",
    "len(pt_entries_etimologia)"
   ]
  },
  {
   "cell_type": "code",
   "execution_count": 5,
   "metadata": {},
   "outputs": [
    {
     "data": {
      "text/plain": [
       "12384"
      ]
     },
     "execution_count": 5,
     "metadata": {},
     "output_type": "execute_result"
    }
   ],
   "source": [
    "word_search = \"===Portugal===\"\n",
    "pt_pt_entries = [match for match in pt_entries if word_search in match]\n",
    "\n",
    "len(pt_pt_entries)"
   ]
  },
  {
   "cell_type": "code",
   "execution_count": 6,
   "metadata": {},
   "outputs": [
    {
     "data": {
      "text/plain": [
       "12374"
      ]
     },
     "execution_count": 6,
     "metadata": {},
     "output_type": "execute_result"
    }
   ],
   "source": [
    "word_search = \"AFI\"\n",
    "pt_entries_IPA = [match for match in pt_pt_entries if word_search in match]\n",
    "\n",
    "len(pt_entries_IPA)"
   ]
  },
  {
   "cell_type": "code",
   "execution_count": 7,
   "metadata": {},
   "outputs": [
    {
     "data": {
      "text/plain": [
       "623"
      ]
     },
     "execution_count": 7,
     "metadata": {},
     "output_type": "execute_result"
    }
   ],
   "source": [
    "word_search = \"SAMPA\"\n",
    "pt_entries_SAMPA = [match for match in pt_pt_entries if word_search in match]\n",
    "\n",
    "len(pt_entries_SAMPA)"
   ]
  },
  {
   "cell_type": "code",
   "execution_count": 8,
   "metadata": {},
   "outputs": [
    {
     "data": {
      "text/plain": [
       "623"
      ]
     },
     "execution_count": 8,
     "metadata": {},
     "output_type": "execute_result"
    }
   ],
   "source": [
    "word_search = \"SAMPA\"\n",
    "pt_entries_SAMPA_IPA = [match for match in pt_entries_SAMPA if word_search in match]\n",
    "\n",
    "len(pt_entries_SAMPA_IPA)"
   ]
  },
  {
   "cell_type": "code",
   "execution_count": 9,
   "metadata": {
    "scrolled": false
   },
   "outputs": [
    {
     "data": {
      "text/plain": [
       "2029"
      ]
     },
     "execution_count": 9,
     "metadata": {},
     "output_type": "execute_result"
    }
   ],
   "source": [
    "word_search = \"===Brasil===\"\n",
    "br_entries = [match for match in pt_entries if word_search in match]\n",
    "\n",
    "len(br_entries)"
   ]
  },
  {
   "cell_type": "code",
   "execution_count": 10,
   "metadata": {},
   "outputs": [
    {
     "data": {
      "text/plain": [
       "2006"
      ]
     },
     "execution_count": 10,
     "metadata": {},
     "output_type": "execute_result"
    }
   ],
   "source": [
    "word_search = \"AFI\"\n",
    "br_entries_IPA = [match for match in br_entries if word_search in match]\n",
    "\n",
    "len(br_entries_IPA)"
   ]
  },
  {
   "cell_type": "code",
   "execution_count": 11,
   "metadata": {},
   "outputs": [
    {
     "data": {
      "text/plain": [
       "1671"
      ]
     },
     "execution_count": 11,
     "metadata": {},
     "output_type": "execute_result"
    }
   ],
   "source": [
    "word_search = \"SAMPA\"\n",
    "br_entries_SAMPA = [match for match in br_entries if word_search in match]\n",
    "\n",
    "len(br_entries_SAMPA)"
   ]
  },
  {
   "cell_type": "code",
   "execution_count": 12,
   "metadata": {},
   "outputs": [
    {
     "data": {
      "text/plain": [
       "1671"
      ]
     },
     "execution_count": 12,
     "metadata": {},
     "output_type": "execute_result"
    }
   ],
   "source": [
    "word_search = \"SAMPA\"\n",
    "br_entries_SAMPA_IPA = [match for match in br_entries_SAMPA if word_search in match]\n",
    "\n",
    "len(br_entries_SAMPA_IPA)"
   ]
  }
 ],
 "metadata": {
  "hide_input": false,
  "kernelspec": {
   "display_name": "Python 3",
   "language": "python",
   "name": "python3"
  },
  "language_info": {
   "codemirror_mode": {
    "name": "ipython",
    "version": 3
   },
   "file_extension": ".py",
   "mimetype": "text/x-python",
   "name": "python",
   "nbconvert_exporter": "python",
   "pygments_lexer": "ipython3",
   "version": "3.8.5"
  },
  "toc": {
   "base_numbering": 1,
   "nav_menu": {},
   "number_sections": true,
   "sideBar": true,
   "skip_h1_title": false,
   "title_cell": "Table of Contents",
   "title_sidebar": "Contents",
   "toc_cell": false,
   "toc_position": {
    "height": "calc(100% - 180px)",
    "left": "10px",
    "top": "150px",
    "width": "165px"
   },
   "toc_section_display": true,
   "toc_window_display": true
  }
 },
 "nbformat": 4,
 "nbformat_minor": 4
}
