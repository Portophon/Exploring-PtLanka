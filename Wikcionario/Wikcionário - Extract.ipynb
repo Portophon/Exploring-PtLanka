{
 "cells": [
  {
   "cell_type": "markdown",
   "metadata": {},
   "source": [
    "## Packages"
   ]
  },
  {
   "cell_type": "code",
   "execution_count": 1,
   "metadata": {},
   "outputs": [],
   "source": [
    "import os\n",
    "import re\n",
    "\n",
    "import codecs\n",
    "import pandas as pd"
   ]
  },
  {
   "cell_type": "markdown",
   "metadata": {},
   "source": [
    "## Load data set\n",
    "From https://dumps.wikimedia.org/ptwiktionary/latest/\n",
    "\n",
    "18-01-2022"
   ]
  },
  {
   "cell_type": "code",
   "execution_count": 2,
   "metadata": {
    "scrolled": true
   },
   "outputs": [
    {
     "ename": "FileNotFoundError",
     "evalue": "[Errno 2] No such file or directory: 'ptwiktionary-latest-pages-articles.xml'",
     "output_type": "error",
     "traceback": [
      "\u001b[1;31m---------------------------------------------------------------------------\u001b[0m",
      "\u001b[1;31mFileNotFoundError\u001b[0m                         Traceback (most recent call last)",
      "\u001b[1;32mC:\\Users\\CARLOS~1\\AppData\\Local\\Temp/ipykernel_4728/1260081441.py\u001b[0m in \u001b[0;36m<module>\u001b[1;34m\u001b[0m\n\u001b[0;32m      1\u001b[0m \u001b[0mpt_dict\u001b[0m \u001b[1;33m=\u001b[0m \u001b[1;33m[\u001b[0m\u001b[1;33m]\u001b[0m\u001b[1;33m\u001b[0m\u001b[1;33m\u001b[0m\u001b[0m\n\u001b[0;32m      2\u001b[0m \u001b[1;33m\u001b[0m\u001b[0m\n\u001b[1;32m----> 3\u001b[1;33m \u001b[1;32mwith\u001b[0m \u001b[0mopen\u001b[0m\u001b[1;33m(\u001b[0m\u001b[1;34m\"ptwiktionary-latest-pages-articles.xml\"\u001b[0m\u001b[1;33m,\u001b[0m \u001b[0mencoding\u001b[0m\u001b[1;33m=\u001b[0m\u001b[1;34m\"utf-8\"\u001b[0m\u001b[1;33m)\u001b[0m \u001b[1;32mas\u001b[0m \u001b[0mfile\u001b[0m\u001b[1;33m:\u001b[0m\u001b[1;33m\u001b[0m\u001b[1;33m\u001b[0m\u001b[0m\n\u001b[0m\u001b[0;32m      4\u001b[0m     \u001b[0mpt_dict\u001b[0m \u001b[1;33m=\u001b[0m \u001b[0mfile\u001b[0m\u001b[1;33m.\u001b[0m\u001b[0mread\u001b[0m\u001b[1;33m(\u001b[0m\u001b[1;33m)\u001b[0m\u001b[1;33m\u001b[0m\u001b[1;33m\u001b[0m\u001b[0m\n\u001b[0;32m      5\u001b[0m \u001b[0mprint\u001b[0m\u001b[1;33m(\u001b[0m\u001b[0mlen\u001b[0m\u001b[1;33m(\u001b[0m\u001b[0mpt_dict\u001b[0m\u001b[1;33m)\u001b[0m\u001b[1;33m)\u001b[0m\u001b[1;33m\u001b[0m\u001b[1;33m\u001b[0m\u001b[0m\n",
      "\u001b[1;31mFileNotFoundError\u001b[0m: [Errno 2] No such file or directory: 'ptwiktionary-latest-pages-articles.xml'"
     ]
    }
   ],
   "source": [
    "pt_dict = []\n",
    "\n",
    "with open(\"ptwiktionary-latest-pages-articles.xml\", encoding=\"utf-8\") as file:\n",
    "    pt_dict = file.read()\n",
    "print(len(pt_dict))"
   ]
  },
  {
   "cell_type": "code",
   "execution_count": null,
   "metadata": {
    "scrolled": true
   },
   "outputs": [],
   "source": [
    "#pt_dict = urllib.parse.unquote(pt_dict)\n",
    "regex = r\"(?<=\\<page\\>)(.*?)\\s*(?=\\<\\/page\\>)\"\n",
    "pt_entries= re.findall(regex, pt_dict, re.DOTALL)\n",
    "\n",
    "word_search = \"===Portugal===\"\n",
    "pt_entries = [match for match in pt_entries if word_search in match]\n",
    "\n",
    "word_search = \"AFI\"\n",
    "pt_entries = [match for match in pt_entries if word_search in match]\n",
    "\n",
    "pt_entries[0:3]"
   ]
  },
  {
   "cell_type": "code",
   "execution_count": null,
   "metadata": {},
   "outputs": [],
   "source": [
    "pt_entries_df = pd.DataFrame()"
   ]
  },
  {
   "cell_type": "markdown",
   "metadata": {},
   "source": [
    "# IPA"
   ]
  },
  {
   "cell_type": "code",
   "execution_count": null,
   "metadata": {
    "scrolled": true
   },
   "outputs": [],
   "source": [
    "regex = r\"(===Portugal===\\n.*).+\"\n",
    "pt_entries_IPA = [re.findall(regex, i, re.MULTILINE) for i in pt_entries]\n",
    "\n",
    "pt_entries_IPA[0:10] "
   ]
  },
  {
   "cell_type": "code",
   "execution_count": null,
   "metadata": {},
   "outputs": [],
   "source": [
    "#pt_entries_IPA = [re.sub(\"\\['===Portugal===\", \"\", str(i)) for i in pt_entries_IPA]\n",
    "pt_entries_IPA = [re.sub(\"']\", \"\", str(i)) for i in pt_entries_IPA]\n",
    "pt_entries_IPA = [str(i).split(':')[-1] for i in pt_entries_IPA]\n",
    "\n",
    "pt_entries_IPA[0:10] "
   ]
  },
  {
   "cell_type": "code",
   "execution_count": null,
   "metadata": {
    "scrolled": true
   },
   "outputs": [],
   "source": [
    "pt_entries_IPA = [re.sub(\"{{AFI\\|\\/\", \"\", i) for i in pt_entries_IPA]\n",
    "pt_entries_IPA = [re.sub(\"lang=pt\", \"\", i) for i in pt_entries_IPA]\n",
    "pt_entries_IPA = [re.sub(\"pt\", \"\", i) for i in pt_entries_IPA]\n",
    "pt_entries_IPA = [re.sub(\"[\\/\\|\\'\\}\\{]\", \"\", i) for i in pt_entries_IPA]\n",
    "pt_entries_IPA = [re.sub('\"', \"\", i) for i in pt_entries_IPA]\n",
    "pt_entries_IPA = [re.sub(\"&quot;\", \"\", i) for i in pt_entries_IPA]\n",
    "pt_entries_IPA = [re.sub(\"&lt;\", \"\", i) for i in pt_entries_IPA]\n",
    "pt_entries_IPA = [re.sub(\"small&gt;\", \"\", i) for i in pt_entries_IPA]\n",
    "pt_entries_IPA = [re.sub(\"\\[\", \"\", i) for i in pt_entries_IPA]\n",
    "pt_entries_IPA = [re.sub(\"\\]\", \"\", i) for i in pt_entries_IPA]\n",
    "pt_entries_IPA = [re.sub(\"IPA\", \"\", i) for i in pt_entries_IPA]\n",
    "pt_entries_IPA = [re.sub(\" \", \"\", i) for i in pt_entries_IPA]\n",
    "pt_entries_IPA = [re.sub(\"=.*\", \"\", i) for i in pt_entries_IPA]\n",
    "pt_entries_IPA = [re.sub(\"[\\(\\)]\", \"\", i) for i in pt_entries_IPA]\n",
    "pt_entries_IPA = [re.sub(\"\\'\", \"\", i) for i in pt_entries_IPA]\n",
    "pt_entries_IPA = [re.sub(\"Lisboa\", \"\", i) for i in pt_entries_IPA]\n",
    "pt_entries_IPA = [re.sub(\"AFI\", \"\", i) for i in pt_entries_IPA]\n",
    "pt_entries_IPA = [re.sub(\"gw\", \"gʷ\", i) for i in pt_entries_IPA]\n",
    "pt_entries_IPA = [re.sub(\"kw\", \"kʷ\", i) for i in pt_entries_IPA]\n",
    "pt_entries_IPA = [re.sub(\"ju\", \"i.u\", i) for i in pt_entries_IPA]\n",
    "pt_entries_IPA = [re.sub(\"jo\", \"i.o\", i) for i in pt_entries_IPA]\n",
    "pt_entries_IPA = [re.sub(\"jõ\", \"i.õ\", i) for i in pt_entries_IPA]\n",
    "pt_entries_IPA = [re.sub(\"jɔ\", \"i.ɔ\", i) for i in pt_entries_IPA]\n",
    "pt_entries_IPA = [re.sub(\"jɐ\", \"i.ɐ\", i) for i in pt_entries_IPA]\n",
    "pt_entries_IPA = [re.sub(\"jɐ̃\", \"i.ɐ̃\", i) for i in pt_entries_IPA]\n",
    "pt_entries_IPA = [re.sub(\"jɛ\", \"i.ɛ\", i) for i in pt_entries_IPA]\n",
    "pt_entries_IPA = [re.sub(\"je\", \"i.e\", i) for i in pt_entries_IPA]\n",
    "pt_entries_IPA = [re.sub(\"jẽ\", \"i.ẽ\", i) for i in pt_entries_IPA]\n",
    "pt_entries_IPA = [re.sub(\"wo\", \"u.o\", i) for i in pt_entries_IPA]\n",
    "pt_entries_IPA = [re.sub(\"wɔ\", \"u.ɔ\", i) for i in pt_entries_IPA]\n",
    "pt_entries_IPA = [re.sub(\"wa\", \"u.a\", i) for i in pt_entries_IPA]\n",
    "pt_entries_IPA = [re.sub(\"wɐ̃\", \"u.ɐ̃\", i) for i in pt_entries_IPA]\n",
    "pt_entries_IPA = [re.sub(\"wɛ\", \"u.ɛ\", i) for i in pt_entries_IPA]\n",
    "pt_entries_IPA = [re.sub(\"we\", \"u.e\", i) for i in pt_entries_IPA]\n",
    "pt_entries_IPA = [re.sub(\"wẽ\", \"u.ẽ\", i) for i in pt_entries_IPA]\n",
    "pt_entries_IPA = [re.sub(\"wi\", \"u.i\", i) for i in pt_entries_IPA]\n",
    "pt_entries_IPA = [re.sub(\"wĩ\", \"u.ĩ\", i) for i in pt_entries_IPA]\n",
    "pt_entries_IPA = [re.sub(\"4\", \"ɾ\", i) for i in pt_entries_IPA]\n",
    "pt_entries_IPA = [re.sub(\"6\", \"ɐ\", i) for i in pt_entries_IPA]\n",
    "pt_entries_IPA = [re.sub(\"R\", \"ʀ\", i) for i in pt_entries_IPA]\n",
    "pt_entries_IPA = [re.sub(\"ʁ\", \"ʀ\", i) for i in pt_entries_IPA]\n",
    "pt_entries_IPA = [re.sub(\"Z\", \"ʃ\", i) for i in pt_entries_IPA]\n",
    "pt_entries_IPA = [re.sub(\"_\", \"\", i) for i in pt_entries_IPA]\n",
    "pt_entries_IPA = [re.sub(\"S\", \"ʃ\", i) for i in pt_entries_IPA]\n",
    "pt_entries_IPA = [re.sub(\"ô\", \"o\", i) for i in pt_entries_IPA]\n",
    "pt_entries_IPA = [re.sub(\"ł\", \"ɫ\", i) for i in pt_entries_IPA]\n",
    "pt_entries_IPA = [re.sub(\"ɫ\", \"l\", i) for i in pt_entries_IPA]\n",
    "pt_entries_IPA = [re.sub(\"0\", \"\", i) for i in pt_entries_IPA]\n",
    "pt_entries_IPA = [re.sub(\",\", \"\", i) for i in pt_entries_IPA]\n",
    "pt_entries_IPA = [re.sub(\"\\:\", \"\", i) for i in pt_entries_IPA]\n",
    "pt_entries_IPA = [re.sub(\"\\,\", \"\", i) for i in pt_entries_IPA]\n",
    "pt_entries_IPA = [re.sub(\"\\ˌ\", \"\", i) for i in pt_entries_IPA]\n",
    "pt_entries_IPA = [re.sub(\"\\[\\]\", \"\", i) for i in pt_entries_IPA]\n",
    "pt_entries_IPA = [re.sub(\"↔\", \"\", i) for i in pt_entries_IPA]\n",
    "pt_entries_IPA = [re.sub(\"psi.ché\", \"\", i) for i in pt_entries_IPA]\n",
    "pt_entries_IPA = [re.sub(\"ʧɪ\", \"ti\", i) for i in pt_entries_IPA]\n",
    "pt_entries_IPA = [re.sub(\"β\", \"b\", i) for i in pt_entries_IPA]\n",
    "pt_entries_IPA = [re.sub(\"ɜ\", \"ɐ\", i) for i in pt_entries_IPA]\n",
    "pt_entries_IPA = [re.sub(\"ɣ\", \"g\", i) for i in pt_entries_IPA]\n",
    "pt_entries_IPA = [re.sub(\"ɡ\", \"g\", i) for i in pt_entries_IPA]\n",
    "pt_entries_IPA = [re.sub(\"ð\", \"d\", i) for i in pt_entries_IPA]\n",
    "pt_entries_IPA = [re.sub(\"ʊ\", \"u\", i) for i in pt_entries_IPA]\n",
    "pt_entries_IPA = [re.sub(\"c\", \"k\", i) for i in pt_entries_IPA]\n",
    "pt_entries_IPA = [re.sub(\"ə\", \"ɨ\", i) for i in pt_entries_IPA]\n",
    "pt_entries_IPA = [re.sub(\"\\<\", \"\", i) for i in pt_entries_IPA]\n",
    "pt_entries_IPA = [re.sub(\"text\", \"\", i) for i in pt_entries_IPA]\n",
    "pt_entries_IPA = [re.sub(\"\\ˈ\", \"\", i) for i in pt_entries_IPA]\n",
    "\n",
    "\n",
    "\n",
    "pt_entries_IPA = [i.split(',') for i in pt_entries_IPA]\n",
    "\n",
    "pt_entries_IPA[0:10] "
   ]
  },
  {
   "cell_type": "code",
   "execution_count": null,
   "metadata": {},
   "outputs": [],
   "source": [
    "pt_entries_df[\"spelling\"] = pt_entries_IPA"
   ]
  },
  {
   "cell_type": "markdown",
   "metadata": {},
   "source": [
    "# Spelling"
   ]
  },
  {
   "cell_type": "code",
   "execution_count": null,
   "metadata": {
    "scrolled": false
   },
   "outputs": [],
   "source": [
    "regex = r\"(?<=\\<title\\>)(.*)(?=\\<\\/title\\>)\"\n",
    "pt_entries_ort = [re.findall(regex, i)[0] for i in pt_entries]\n",
    "pt_entries_ort[0:10] "
   ]
  },
  {
   "cell_type": "code",
   "execution_count": null,
   "metadata": {},
   "outputs": [],
   "source": [
    "pt_entries_df[\"word\"] = pt_entries_ort"
   ]
  },
  {
   "cell_type": "code",
   "execution_count": 3,
   "metadata": {},
   "outputs": [
    {
     "ename": "NameError",
     "evalue": "name 'pt_entries_df' is not defined",
     "output_type": "error",
     "traceback": [
      "\u001b[1;31m---------------------------------------------------------------------------\u001b[0m",
      "\u001b[1;31mNameError\u001b[0m                                 Traceback (most recent call last)",
      "\u001b[1;32mC:\\Users\\CARLOS~1\\AppData\\Local\\Temp/ipykernel_4728/2663295051.py\u001b[0m in \u001b[0;36m<module>\u001b[1;34m\u001b[0m\n\u001b[1;32m----> 1\u001b[1;33m \u001b[0mpt_entries_df\u001b[0m\u001b[1;33m.\u001b[0m\u001b[0mto_csv\u001b[0m\u001b[1;33m(\u001b[0m\u001b[1;34m\"wikcionario_IPA.csv\"\u001b[0m\u001b[1;33m,\u001b[0m \u001b[0mindex\u001b[0m \u001b[1;33m=\u001b[0m \u001b[1;32mFalse\u001b[0m\u001b[1;33m,\u001b[0m \u001b[0mheader\u001b[0m \u001b[1;33m=\u001b[0m \u001b[1;32mTrue\u001b[0m\u001b[1;33m)\u001b[0m\u001b[1;33m\u001b[0m\u001b[1;33m\u001b[0m\u001b[0m\n\u001b[0m",
      "\u001b[1;31mNameError\u001b[0m: name 'pt_entries_df' is not defined"
     ]
    }
   ],
   "source": [
    "pt_entries_df.to_csv(\"wikcionario_IPA.csv\", index = False, header = True)"
   ]
  },
  {
   "cell_type": "code",
   "execution_count": null,
   "metadata": {},
   "outputs": [],
   "source": []
  }
 ],
 "metadata": {
  "hide_input": false,
  "kernelspec": {
   "display_name": "Python 3 (ipykernel)",
   "language": "python",
   "name": "python3"
  },
  "language_info": {
   "codemirror_mode": {
    "name": "ipython",
    "version": 3
   },
   "file_extension": ".py",
   "mimetype": "text/x-python",
   "name": "python",
   "nbconvert_exporter": "python",
   "pygments_lexer": "ipython3",
   "version": "3.9.7"
  },
  "toc": {
   "base_numbering": 1,
   "nav_menu": {},
   "number_sections": true,
   "sideBar": true,
   "skip_h1_title": false,
   "title_cell": "Table of Contents",
   "title_sidebar": "Contents",
   "toc_cell": false,
   "toc_position": {},
   "toc_section_display": true,
   "toc_window_display": true
  }
 },
 "nbformat": 4,
 "nbformat_minor": 4
}
